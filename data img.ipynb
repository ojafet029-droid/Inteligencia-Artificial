{
 "cells": [
  {
   "cell_type": "markdown",
   "metadata": {
    "id": "1aRvn9ilPRVN"
   },
   "source": [
    "\n",
    "# 🖼️ Técnicas de Aumento de Datos para Imágenes\n",
    "## Filtros, Zoom, Rotación, Ruido y Más\n",
    "\n",
    "## 1. Configuración Inicial\n",
    "\n",
    "\n",
    "# Importar librerías necesarias"
   ]
  },
  {
   "cell_type": "code",
   "execution_count": null,
   "metadata": {
    "id": "0I04feo2PaMU"
   },
   "outputs": [],
   "source": [
    "import cv2\n",
    "import numpy as np\n",
    "import matplotlib.pyplot as plt\n",
    "from skimage import io, transform, util\n",
    "from scipy import ndimage\n",
    "import random\n",
    "\n",
    "# Configurar estilo de visualización\n",
    "plt.style.use('ggplot')\n",
    "plt.rcParams['figure.figsize'] = (12, 8)"
   ]
  },
  {
   "cell_type": "markdown",
   "metadata": {
    "id": "-BFPTCwPPdB-"
   },
   "source": [
    "## 2. Cargar y Visualizar Imagen de Ejemplo"
   ]
  },
  {
   "cell_type": "code",
   "execution_count": null,
   "metadata": {
    "colab": {
     "base_uri": "https://localhost:8080/",
     "height": 712
    },
    "id": "Gc-GLzU3OmPT",
    "outputId": "3e899db0-7cf3-4ed2-c20f-3afd2e0a4376"
   },
   "outputs": [],
   "source": [
    "\n",
    "\n",
    "\n",
    "# Cargar imagen de ejemplo (usaremos un dígito del dataset MNIST)\n",
    "img_url = \"https://content.nationalgeographic.com.es/medio/2024/06/18/shutterstock-2364347943_7b6b9957_240618122102_1200x630.jpg\"\n",
    "img = io.imread(img_url)\n",
    "\n",
    "# Convertir a escala de grises y redimensionar\n",
    "img_gray = cv2.cvtColor(img, cv2.COLOR_BGR2GRAY)\n",
    "img_resized = cv2.resize(img_gray, (128, 128))\n",
    "\n",
    "print(f\"Dimensiones originales: {img.shape}\")\n",
    "print(f\"Dimensiones después de procesamiento: {img_resized.shape}\")\n",
    "\n",
    "# Mostrar imagen original\n",
    "plt.imshow(img_resized, cmap='gray')\n",
    "plt.title('Imagen Original')\n",
    "plt.axis('off')\n",
    "plt.show()\n",
    "\n",
    "\n"
   ]
  },
  {
   "cell_type": "markdown",
   "metadata": {
    "id": "U_67qioMPkzi"
   },
   "source": [
    "## 3. Técnicas de Aumento de Datos"
   ]
  },
  {
   "cell_type": "code",
   "execution_count": null,
   "metadata": {
    "colab": {
     "base_uri": "https://localhost:8080/",
     "height": 373
    },
    "id": "yP8hUsN2Pl34",
    "outputId": "32da63c3-b49d-47af-9ef6-5a224c8bf4df"
   },
   "outputs": [],
   "source": [
    "def rotate_and_translate(image, angle_range=(-30, 30), translate_range=(-10, 10)):\n",
    "    \"\"\"Aplica rotación y traslación aleatoria\"\"\"\n",
    "    # Rotación\n",
    "    angle = random.uniform(angle_range[0], angle_range[1])\n",
    "    rotated = ndimage.rotate(image, angle, reshape=False)\n",
    "\n",
    "    # Traslación\n",
    "    tx = random.uniform(translate_range[0], translate_range[1])\n",
    "    ty = random.uniform(translate_range[0], translate_range[1])\n",
    "    translated = np.roll(rotated, int(tx), axis=1)\n",
    "    translated = np.roll(translated, int(ty), axis=0)\n",
    "\n",
    "    return translated\n",
    "\n",
    "# Aplicar transformación\n",
    "transformed_img = rotate_and_translate(img_resized)\n",
    "\n",
    "# Mostrar resultado\n",
    "plt.subplot(121)\n",
    "plt.imshow(img_resized, cmap='gray')\n",
    "plt.title('Original')\n",
    "plt.axis('off')\n",
    "\n",
    "plt.subplot(122)\n",
    "plt.imshow(transformed_img, cmap='gray')\n",
    "plt.title('Rotada y Traslada')\n",
    "plt.axis('off')\n",
    "plt.show()"
   ]
  },
  {
   "cell_type": "markdown",
   "metadata": {
    "id": "HTjV41jrPq7x"
   },
   "source": [
    "\n",
    "### 3.2. Zoom y Recorte Aleatorio\n",
    "---\n",
    "\n"
   ]
  },
  {
   "cell_type": "code",
   "execution_count": null,
   "metadata": {
    "colab": {
     "base_uri": "https://localhost:8080/",
     "height": 373
    },
    "id": "FegKApuNPuIW",
    "outputId": "048f93e9-d8dc-4fff-ac47-ac3a02e9def0"
   },
   "outputs": [],
   "source": [
    "def random_zoom_crop(image, zoom_range=(0.8, 1.2), crop_size=(112, 112)):\n",
    "    \"\"\"Aplica zoom aleatorio y recorte\"\"\"\n",
    "    h, w = image.shape\n",
    "\n",
    "    # Aplicar zoom\n",
    "    zoom_factor = random.uniform(zoom_range[0], zoom_range[1])\n",
    "    zoomed = ndimage.zoom(image, zoom_factor)\n",
    "\n",
    "    # Recortar al tamaño deseado\n",
    "    new_h, new_w = zoomed.shape\n",
    "    start_h = random.randint(0, new_h - crop_size[0])\n",
    "    start_w = random.randint(0, new_w - crop_size[1])\n",
    "\n",
    "    cropped = zoomed[start_h:start_h+crop_size[0], start_w:start_w+crop_size[1]]\n",
    "\n",
    "    return cropped\n",
    "\n",
    "# Aplicar transformación\n",
    "zoomed_cropped = random_zoom_crop(img_resized)\n",
    "\n",
    "# Mostrar resultado\n",
    "plt.subplot(121)\n",
    "plt.imshow(img_resized, cmap='gray')\n",
    "plt.title('Original')\n",
    "plt.axis('off')\n",
    "\n",
    "plt.subplot(122)\n",
    "plt.imshow(zoomed_cropped, cmap='gray')\n",
    "plt.title('Zoom y Recorte')\n",
    "plt.axis('off')\n",
    "plt.show()"
   ]
  },
  {
   "cell_type": "markdown",
   "metadata": {
    "id": "pFnqmZdKP2ir"
   },
   "source": [
    " ### 3.3. Añadir Ruido"
   ]
  },
  {
   "cell_type": "code",
   "execution_count": null,
   "metadata": {
    "colab": {
     "base_uri": "https://localhost:8080/",
     "height": 268
    },
    "id": "Sr26YuTMP5-2",
    "outputId": "b834e0a4-e2ea-4353-c896-a85bdec68527"
   },
   "outputs": [],
   "source": [
    "# %%\n",
    "def add_noise(image, noise_type='gaussian', intensity=0.1):\n",
    "    \"\"\"Añade ruido a la imagen\"\"\"\n",
    "    noisy = image.copy().astype(float)\n",
    "\n",
    "    if noise_type == 'gaussian':\n",
    "        # Ruido gaussiano\n",
    "        noise = np.random.normal(0, intensity * 255, image.shape)\n",
    "        noisy = np.clip(noisy + noise, 0, 255)\n",
    "\n",
    "    elif noise_type == 'salt_pepper':\n",
    "        # Ruido sal y pimienta\n",
    "        salt_prob = intensity / 2\n",
    "        pepper_prob = intensity / 2\n",
    "\n",
    "        # Añadir sal (píxeles blancos)\n",
    "        salt_mask = np.random.random(image.shape) < salt_prob\n",
    "        noisy[salt_mask] = 255\n",
    "\n",
    "        # Añadir pimienta (píxeles negros)\n",
    "        pepper_mask = np.random.random(image.shape) < pepper_prob\n",
    "        noisy[pepper_mask] = 0\n",
    "\n",
    "    return noisy.astype(np.uint8)\n",
    "\n",
    "# Aplicar ruido gaussiano\n",
    "noisy_gaussian = add_noise(img_resized, noise_type='gaussian', intensity=0.1)\n",
    "\n",
    "# Aplicar ruido sal y pimienta\n",
    "noisy_salt_pepper = add_noise(img_resized, noise_type='salt_pepper', intensity=0.1)\n",
    "\n",
    "# Mostrar resultados\n",
    "plt.figure(figsize=(15, 5))\n",
    "\n",
    "plt.subplot(131)\n",
    "plt.imshow(img_resized, cmap='gray')\n",
    "plt.title('Original')\n",
    "plt.axis('off')\n",
    "\n",
    "plt.subplot(132)\n",
    "plt.imshow(noisy_gaussian, cmap='gray')\n",
    "plt.title('Ruido Gaussiano')\n",
    "plt.axis('off')\n",
    "\n",
    "plt.subplot(133)\n",
    "plt.imshow(noisy_salt_pepper, cmap='gray')\n",
    "plt.title('Ruido Sal y Pimienta')\n",
    "plt.axis('off')\n",
    "\n",
    "plt.tight_layout()\n",
    "plt.show()"
   ]
  },
  {
   "cell_type": "markdown",
   "metadata": {
    "id": "VgLakwKRQB_W"
   },
   "source": [
    "### 3.4. Filtros Espaciales"
   ]
  },
  {
   "cell_type": "code",
   "execution_count": null,
   "metadata": {
    "colab": {
     "base_uri": "https://localhost:8080/",
     "height": 212
    },
    "id": "rIHbIVmIQEnv",
    "outputId": "44c31161-b122-4d0d-f1f1-756222b917ad"
   },
   "outputs": [],
   "source": [
    "# %%\n",
    "def apply_filter(image, filter_type='blur'):\n",
    "    \"\"\"Aplica filtros espaciales\"\"\"\n",
    "    if filter_type == 'blur':\n",
    "        filtered = cv2.GaussianBlur(image, (5, 5), 0)\n",
    "    elif filter_type == 'sharpen':\n",
    "        kernel = np.array([[0, -1, 0],\n",
    "                         [-1, 5, -1],\n",
    "                         [0, -1, 0]])\n",
    "        filtered = cv2.filter2D(image, -1, kernel)\n",
    "    elif filter_type == 'edge':\n",
    "        # Detección de bordes con Sobel\n",
    "        sobel_x = cv2.Sobel(image, cv2.CV_64F, 1, 0, ksize=3)\n",
    "        sobel_y = cv2.Sobel(image, cv2.CV_64F, 0, 1, ksize=3)\n",
    "        filtered = np.sqrt(sobel_x**2 + sobel_y**2)\n",
    "        filtered = cv2.normalize(filtered, None, 0, 255, cv2.NORM_MINMAX)\n",
    "\n",
    "    return filtered.astype(np.uint8)\n",
    "\n",
    "# Aplicar diferentes filtros\n",
    "blurred = apply_filter(img_resized, 'blur')\n",
    "sharpened = apply_filter(img_resized, 'sharpen')\n",
    "edges = apply_filter(img_resized, 'edge')\n",
    "\n",
    "# Mostrar resultados\n",
    "plt.figure(figsize=(15, 5))\n",
    "\n",
    "plt.subplot(141)\n",
    "plt.imshow(img_resized, cmap='gray')\n",
    "plt.title('Original')\n",
    "plt.axis('off')\n",
    "\n",
    "plt.subplot(142)\n",
    "plt.imshow(blurred, cmap='gray')\n",
    "plt.title('Filtro Blur')\n",
    "plt.axis('off')\n",
    "\n",
    "plt.subplot(143)\n",
    "plt.imshow(sharpened, cmap='gray')\n",
    "plt.title('Filtro Sharpen')\n",
    "plt.axis('off')\n",
    "\n",
    "plt.subplot(144)\n",
    "plt.imshow(edges, cmap='gray')\n",
    "plt.title('Detección de Bordes')\n",
    "plt.axis('off')\n",
    "\n",
    "plt.tight_layout()\n",
    "plt.show()"
   ]
  },
  {
   "cell_type": "markdown",
   "metadata": {
    "id": "I5z7C3nhQKjY"
   },
   "source": [
    "### 3.5. Alteración de Color\n"
   ]
  },
  {
   "cell_type": "code",
   "execution_count": null,
   "metadata": {
    "colab": {
     "base_uri": "https://localhost:8080/",
     "height": 212
    },
    "id": "jhEM90b0QM8X",
    "outputId": "aadeeb3c-b06a-4b72-b6d6-a254a3471734"
   },
   "outputs": [],
   "source": [
    "# %%\n",
    "def adjust_color(image, brightness=0, contrast=0, saturation=0):\n",
    "    \"\"\"Ajusta brillo, contraste y saturación\"\"\"\n",
    "    adjusted = image.copy().astype(float)\n",
    "\n",
    "    # Ajustar brillo\n",
    "    adjusted = np.clip(adjusted + brightness, 0, 255)\n",
    "\n",
    "    # Ajustar contraste\n",
    "    if contrast != 0:\n",
    "        mean = np.mean(adjusted)\n",
    "        adjusted = (contrast * (adjusted - mean) + mean)\n",
    "        adjusted = np.clip(adjusted, 0, 255)\n",
    "\n",
    "    # Ajustar saturación (solo para imágenes RGB)\n",
    "    if len(image.shape) == 3:\n",
    "        hsv = cv2.cvtColor(adjusted.astype(np.uint8), cv2.COLOR_BGR2HSV)\n",
    "        h, s, v = cv2.split(hsv)\n",
    "        s = np.clip(s * (1 + saturation/100), 0, 255)\n",
    "        hsv = cv2.merge([h, s, v])\n",
    "        adjusted = cv2.cvtColor(hsv, cv2.COLOR_HSV2BGR)\n",
    "\n",
    "    return adjusted.astype(np.uint8)\n",
    "\n",
    "# Aplicar ajustes de color\n",
    "brightened = adjust_color(img_resized, brightness=30)\n",
    "darkened = adjust_color(img_resized, brightness=-30)\n",
    "high_contrast = adjust_color(img_resized, contrast=1.5)\n",
    "\n",
    "# Mostrar resultados\n",
    "plt.figure(figsize=(15, 5))\n",
    "\n",
    "plt.subplot(141)\n",
    "plt.imshow(img_resized, cmap='gray')\n",
    "plt.title('Original')\n",
    "plt.axis('off')\n",
    "\n",
    "plt.subplot(142)\n",
    "plt.imshow(brightened, cmap='gray')\n",
    "plt.title('Brillo Aumentado')\n",
    "plt.axis('off')\n",
    "\n",
    "plt.subplot(143)\n",
    "plt.imshow(darkened, cmap='gray')\n",
    "plt.title('Brillo Disminuido')\n",
    "plt.axis('off')\n",
    "\n",
    "plt.subplot(144)\n",
    "plt.imshow(high_contrast, cmap='gray')\n",
    "plt.title('Alto Contraste')\n",
    "plt.axis('off')\n",
    "\n",
    "plt.tight_layout()\n",
    "plt.show()"
   ]
  },
  {
   "cell_type": "markdown",
   "metadata": {
    "id": "g9vsRB6oQTDI"
   },
   "source": [
    "## 4. Combinación de Técnicas\n"
   ]
  },
  {
   "cell_type": "code",
   "execution_count": null,
   "metadata": {
    "colab": {
     "base_uri": "https://localhost:8080/",
     "height": 394
    },
    "id": "9R38BO_hQVRB",
    "outputId": "82377917-c324-4f24-f326-60e54eb0cad7"
   },
   "outputs": [],
   "source": [
    "# %%\n",
    "def complex_augmentation(image):\n",
    "    \"\"\"Combina múltiples técnicas de aumento\"\"\"\n",
    "    # Aplicar varias transformaciones secuencialmente\n",
    "    augmented = image.copy()\n",
    "\n",
    "    # 1. Rotación y traslación\n",
    "    augmented = rotate_and_translate(augmented)\n",
    "\n",
    "    # 2. Zoom y recorte\n",
    "    augmented = random_zoom_crop(augmented)\n",
    "\n",
    "    # 3. Añadir ruido gaussiano\n",
    "    augmented = add_noise(augmented, noise_type='gaussian', intensity=0.08)\n",
    "\n",
    "    # 4. Aplicar filtro de desenfoque\n",
    "    augmented = apply_filter(augmented, 'blur')\n",
    "\n",
    "    # 5. Ajustar brillo ligeramente\n",
    "    augmented = adjust_color(augmented, brightness=random.uniform(-10, 10))\n",
    "\n",
    "    return augmented\n",
    "\n",
    "# Aplicar transformación compuesta\n",
    "complex_augmented = complex_augmentation(img_resized)\n",
    "\n",
    "# Mostrar resultado final\n",
    "plt.figure(figsize=(10, 5))\n",
    "\n",
    "plt.subplot(121)\n",
    "plt.imshow(img_resized, cmap='gray')\n",
    "plt.title('Original')\n",
    "plt.axis('off')\n",
    "\n",
    "plt.subplot(122)\n",
    "plt.imshow(complex_augmented, cmap='gray')\n",
    "plt.title('Transformación Compleja')\n",
    "plt.axis('off')\n",
    "\n",
    "plt.tight_layout()\n",
    "plt.show()"
   ]
  }
 ],
 "metadata": {
  "colab": {
   "provenance": []
  },
  "kernelspec": {
   "display_name": "base",
   "language": "python",
   "name": "python3"
  },
  "language_info": {
   "codemirror_mode": {
    "name": "ipython",
    "version": 3
   },
   "file_extension": ".py",
   "mimetype": "text/x-python",
   "name": "python",
   "nbconvert_exporter": "python",
   "pygments_lexer": "ipython3",
   "version": "3.13.5"
  }
 },
 "nbformat": 4,
 "nbformat_minor": 4
}
